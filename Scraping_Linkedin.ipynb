{
 "cells": [
  {
   "cell_type": "markdown",
   "metadata": {},
   "source": [
    "<center> \n",
    "<img src=\"https://upload.wikimedia.org/wikipedia/commons/c/ca/LinkedIn_logo_initials.png\" alt=\"Logo Linkedin\" width=\"100\" height=\"100\">\n",
    "\n",
    "## Extracción en Linkedin - Búsqueda de personal\n",
    "\n",
    "<hr>\n",
    "</center>\n",
    "\n",
    "Integrantes:\n",
    "\n",
    "* Garnica, Hernán\n",
    "\n",
    "* Mamani, Jiang\n",
    "\n",
    "* Philipp, Eduardo\n",
    "\n",
    "* Scime, Silvia\n",
    "\n",
    "* Tisera, Marcelo\n",
    "  \n",
    "  \n",
    "\n",
    "<hr> \n",
    "\n"
   ]
  },
  {
   "cell_type": "markdown",
   "metadata": {},
   "source": [
    "## Objetivo\n",
    "Realizar Scraping en la página web de la red social Linkedin https://www.linkedin.com/ para poder automatizar el proceso de extracción de información sobre   perfiles de personas que debe arrojar una búsqueda laboral deseada. Por ejemplo \"Cientifico de Datos\"."
   ]
  },
  {
   "cell_type": "markdown",
   "metadata": {},
   "source": [
    "<img src=\"https://i.ibb.co/k9M0B6n/Whats-App-Image-2024-05-15-at-23-03-09.jpg\" alt=\"LogoLinkedin\" width=\"80\" height=\"30\" border=\"0\" />\n",
    "es una red social profesional orientada a facilitar el establecimiento de contactos laborales y empresariales. Permite a sus usuarios crear perfiles que destacan sus habilidades, experiencia laboral, educación y logros. Estos perfiles actúan como un currículum digital.\n",
    "\n",
    "La solución propuesta busca economizar los gastos relacionados a la suscripción de las siguientes herramientas:\n",
    "\n",
    "<img src=\"https://i.ibb.co/89mm7y8/0-precios.jpg\" alt=\"0-precios\" border=\"0\" />\n",
    "\n",
    "## Tipos de aplicaciones \n",
    "Linkedin cuenta con distintos tipos de aplicaciones que permiten manipular la interacción con la pagina de la red social y poder manipular fácilmente dicha información. Para realizar el pedido de ellas se interactúa a través de su página para desarrolladores en el siguiente link:\n",
    "\n",
    "https://developer.linkedin.com/\n",
    "\n",
    "A los fines de poder acceder a la información de búsqueda de personal con específicos perfiles que deseamos obtener, en nuestro caso solicitamos permisos a las 2 siguientes aplicaciones:\n",
    "\n",
    "API de portabilidad de datos de los miembros.\n",
    "\n",
    "<img src=\"https://i.ibb.co/M1BMXsY/api-member.jpg\" alt=\"api-member\" border=\"0\" />\n",
    "\n",
    "API de portabilidad de datos de paginas.\n",
    "\n",
    "<img src=\"https://i.ibb.co/8M74Qvp/api-page.jpg\" alt=\"api-page\" border=\"0\" />\n",
    "\n",
    "\n",
    "Estas solicitudes relacionadas con la gestión de productos para desarrolladores se someten a un proceso de revisión y aprobación y atraviesan las siguientes 3 etapas.\n",
    "\n",
    "### Etapas de la solicitud\n",
    "\n",
    "<img src=\"https://i.ibb.co/rwgYhc1/estado.jpg\" alt=\"estado\" border=\"0\" />\n",
    "\n",
    "En nuestro caso hemos atravesado dichas etapas en 2 oportunidades utilizando 2 cuentas de usuarios de Linkedin tanto del tipo “no paga” e incluso de tipo “paga” suponiendo que obtendríamos un resultado favorable.\n",
    "\n",
    "\n",
    "### Tipos de rechazos\n",
    "Existen diversos motivos por los cuales los pedidos de accesos a las aplicaciones pueden ser rechazados. \n",
    "\n",
    "<img src=\"https://i.ibb.co/nDHQbDr/mensaje.jpg\" alt=\"mensaje\" border=\"0\" />\n",
    "\n",
    "En nuestro caso intentamos con 2 cuentas diferentes y fuimos rechazados por “Política de privacidad no válida”.\n",
    "Continuamos con la apelación de la misma y realizamos modificaciones en las respectivas páginas web en donde incorporamos las mencionadas políticas de privacidad en cuestión.  Al momento no hemos tenido respuesta satisfactoria despues de más de 3 semanas.\n",
    "Por esto hemos decidido intentar realizar scraping sobre la página sin utilizar las API."
   ]
  },
  {
   "cell_type": "markdown",
   "metadata": {},
   "source": [
    "## Intalación de librerias a utilizar "
   ]
  },
  {
   "cell_type": "code",
   "execution_count": 1,
   "metadata": {},
   "outputs": [],
   "source": [
    "#%pip install selenium\n",
    "#%pip install webdriver-manager\n",
    "#%pip install GeckoDriver\n",
    "#%pip install --upgrade selenium webdriver-manager"
   ]
  },
  {
   "cell_type": "markdown",
   "metadata": {},
   "source": [
    "## Cargar librerias"
   ]
  },
  {
   "cell_type": "code",
   "execution_count": 2,
   "metadata": {},
   "outputs": [],
   "source": [
    "from webdriver_manager.firefox import GeckoDriverManager\n",
    "from webdriver_manager.chrome import ChromeDriverManager\n",
    "\n",
    "from selenium import webdriver\n",
    "from selenium.webdriver.common.keys import Keys\n",
    "from selenium.webdriver import ActionChains\n",
    "from selenium.webdriver.common.by import By\n",
    "from selenium.webdriver.common.actions.wheel_input import ScrollOrigin\n",
    "from selenium.webdriver.support.ui import WebDriverWait\n",
    "from selenium.webdriver.support import expected_conditions as EC\n",
    "from selenium.common.exceptions import NoSuchElementException\n",
    "\n",
    "import time\n",
    "from time import sleep\n",
    "import pandas as pd\n",
    "import re\n",
    "import os\n",
    "import urllib.request\n",
    "import datetime"
   ]
  },
  {
   "cell_type": "markdown",
   "metadata": {},
   "source": [
    "## Manejo de webdriver\n",
    "<img src=\"https://i.ibb.co/Wy0pVtz/chrome.jpg\" alt=\"chrome\" border=\"0\" width=\"100\" height=\"100\"/> <img src=\"https://i.ibb.co/tmXvw8r/firefox.jpg\" alt=\"firefox\" width=\"100\" height=\"100\" border=\"0\" />\n",
    "\n",
    "Para poder utilizar el webdriver con 2 tipos de navegadores **Chrome** y **Firefox** se creo una función en donde se le pasa el parametro del tipo de navegador a utilizar, como así tambien la ruta del ejecutable del navegador y la ruta (en caso de necesitarlo) en donde se encuentra la aplicación de soporte para poder correr el Firefox llamada #Gecko\"."
   ]
  },
  {
   "cell_type": "code",
   "execution_count": 3,
   "metadata": {},
   "outputs": [],
   "source": [
    "# Inicializar Selenium Webdriver\n",
    "\n",
    "def init_driver(navegator, navegator_path, geckodriver_path):\n",
    "    \n",
    "    # Firefox  \n",
    "    if  navegator == \"Firefox\":\n",
    "        from selenium.webdriver.firefox.service import Service as FirefoxService\n",
    "        from selenium.webdriver.firefox.options import Options as FirefoxOptions\n",
    "                \n",
    "        # Ruta al binario de Firefox\n",
    "        firefox_options = FirefoxOptions()\n",
    "        firefox_options.binary_location = navegator_path\n",
    "\n",
    "        # Crear un objeto Service con la ruta al geckodriver\n",
    "        firefox_service = FirefoxService(geckodriver_path)\n",
    "\n",
    "        # Crear el controlador del navegador  \n",
    "        try:\n",
    "            driver = webdriver.Firefox(service=firefox_service , options=firefox_options)\n",
    "            print(f\"{navegator} driver inicializado correctamente.\") \n",
    "        except Exception as e:\n",
    "            print(f\"Error al inicializar {navegator} driver:\", e)\n",
    "\n",
    "\n",
    "    # Chrome\n",
    "    if navegator == \"Chrome\":\n",
    "        from selenium.webdriver.chrome.service import Service as ChromeService\n",
    "        from selenium.webdriver.chrome.options import Options as ChromeOptions\n",
    "\n",
    "        # Ruta al Chrome\n",
    "        chrome_options = ChromeOptions()\n",
    "        chrome_options.binary_location = navegator_path\n",
    "\n",
    "        # Configura el servicio de ChromeDriver\n",
    "        chrome_service = ChromeService(ChromeDriverManager().install())\n",
    "        \n",
    "        # Configura el servicio de ChromeDriver\n",
    "        chrome_service = ChromeService(ChromeDriverManager().install())\n",
    "\n",
    "        # Crear el controlador del navegador  \n",
    "        try:\n",
    "            driver = webdriver.Chrome(service=chrome_service, options=chrome_options)\n",
    "            driver.maximize_window()\n",
    "            print(f\"{navegator} driver inicializado correctamente.\") \n",
    "        except Exception as e:\n",
    "            print(f\"Error al inicializar {navegator} driver:\", e)\n",
    "                \n",
    "        else:\n",
    "            print(\"Navegador no soportado.\")\n",
    "        \n",
    "    return driver            \n",
    "    "
   ]
  },
  {
   "cell_type": "code",
   "execution_count": 4,
   "metadata": {},
   "outputs": [
    {
     "name": "stdout",
     "output_type": "stream",
     "text": [
      "Firefox driver inicializado correctamente.\n"
     ]
    }
   ],
   "source": [
    "#Utilizando navegador Firefox\n",
    "navegator_path = \"C:/Program Files/Mozilla Firefox/firefox.exe\"\n",
    "gekodriver_path = \"D:/ACER/MCD_2024/web_mining/selenium_firefox/geckodriver.exe\"  # Ruta completa al geckodriver\n",
    "driver = init_driver(\"Firefox\", navegator_path , gekodriver_path)"
   ]
  },
  {
   "cell_type": "code",
   "execution_count": null,
   "metadata": {},
   "outputs": [],
   "source": [
    "#Utilizando navegador Chrome\n",
    "\n",
    "#Chrome test Versión 123.0.6312.123 (Build oficial) (64 bits)\n",
    "navegator_path = \"D:/Documentos/MaestriaCD/Web Mining/TP1/chrome-win64/chrome.exe\"\n",
    "driver = init_driver(\"Chrome\", navegator_path , gekodriver_path)"
   ]
  },
  {
   "cell_type": "markdown",
   "metadata": {},
   "source": [
    "Al momento de ejecutar el script con el navegador Google Chrome nos encontramos con la dificultad de la incompatibilidad de versiones, por ello tuvimos que instalar una versión que solo se utiliza para test (Versión 123) que es compatible con la versión de la libreria utilizada para el webdriver llamada \"ChromeDriverManager\"."
   ]
  },
  {
   "cell_type": "markdown",
   "metadata": {},
   "source": [
    "## Función de Navegación\n",
    "Esta función permite pasarle los argumentos de la url y el driver ya inicializado para dirigirse a ese link."
   ]
  },
  {
   "cell_type": "code",
   "execution_count": 5,
   "metadata": {},
   "outputs": [],
   "source": [
    "# Navegar a una página\n",
    "def navigate_to_page(driver, page):\n",
    "    \n",
    "    driver.get(page)\n",
    "    time.sleep(1)"
   ]
  },
  {
   "cell_type": "markdown",
   "metadata": {},
   "source": [
    "Llamado a la función navigate_to_page para inicializar el navegador en la url de linkedin."
   ]
  },
  {
   "cell_type": "code",
   "execution_count": 27,
   "metadata": {},
   "outputs": [],
   "source": [
    "# Ir a la pagina de busqueda de personas\n",
    "page = \"https://www.linkedin.com/search/results/people/\"\n",
    "navigate_to_page(driver, page)"
   ]
  },
  {
   "cell_type": "markdown",
   "metadata": {},
   "source": [
    "## Función de logueo en página de linkedin\n",
    "Esta función permite el logueo automatico en la pagina de linkedin, pasandole el usuario y contraseña como argumentos de la función."
   ]
  },
  {
   "cell_type": "code",
   "execution_count": 7,
   "metadata": {},
   "outputs": [],
   "source": [
    "# Sign in to LinkedIn.\n",
    "def sign_in(driver, user, pas):\n",
    "    \n",
    "    uname = driver.find_element(By.ID, \"username\") \n",
    "    uname.send_keys(user)\n",
    "    \n",
    "    pword = driver.find_element(By.ID, \"password\")\n",
    "    pword.send_keys(pas)\n",
    "        \n",
    "    #final_sign_in = driver.find_element(By.XPATH, '//*[@id=\"organic-div\"]/form/div[3]/button')\n",
    "    final_sign_in = driver.find_element(By.CSS_SELECTOR, \"button[type='submit']\")\n",
    "    final_sign_in.click()\n",
    "    \n",
    "    #driver.implicitly_wait(10)"
   ]
  },
  {
   "cell_type": "markdown",
   "metadata": {},
   "source": [
    "Llamado a la función de logueo."
   ]
  },
  {
   "cell_type": "code",
   "execution_count": 8,
   "metadata": {},
   "outputs": [],
   "source": [
    "user = \"correo@gmail.com\"\n",
    "pas = \"contraseña\"\n",
    "\n",
    "sign_in(driver, user, pas)"
   ]
  },
  {
   "cell_type": "markdown",
   "metadata": {},
   "source": [
    "## Función de busqueda de perfiles\n",
    "Dicha función permite posicionarnos en el campo de busqueda del perfil, luego ingresa el valor pasado en el argumento y por ultimo presiona la tecla \"Enter\".\n"
   ]
  },
  {
   "cell_type": "code",
   "execution_count": 10,
   "metadata": {},
   "outputs": [],
   "source": [
    "# Función de busqueda de perfiles\n",
    "def people_search(driver, profile):\n",
    "    search_box = WebDriverWait(driver, 10).until(EC.visibility_of_element_located((By.CLASS_NAME, \"search-global-typeahead__input\")))\n",
    "    search_box.send_keys(profile)\n",
    "    search_box.send_keys(Keys.ENTER)"
   ]
  },
  {
   "cell_type": "markdown",
   "metadata": {},
   "source": [
    "<img src=\"https://i.ibb.co/1GNsk3P/a-busqueda.jpg\" alt=\"a-busqueda\" border=\"0\" />"
   ]
  },
  {
   "cell_type": "markdown",
   "metadata": {},
   "source": [
    "Llamado a la función en donde le pasamos el parametro de busqueda en este caso \"Cientifico de datos\". Además del driver que ya tenemos inicializado."
   ]
  },
  {
   "cell_type": "code",
   "execution_count": 28,
   "metadata": {},
   "outputs": [],
   "source": [
    "# Ejemplo de busqueda\n",
    "profile = \"Cientifico de Datos\"\n",
    "people_search(driver, profile)"
   ]
  },
  {
   "cell_type": "markdown",
   "metadata": {},
   "source": [
    "Luego se aplican los siguientes filtros:\n",
    "\n",
    "* Contactos de 1era red\n",
    "* Ubicación: Argentina"
   ]
  },
  {
   "cell_type": "code",
   "execution_count": 30,
   "metadata": {},
   "outputs": [],
   "source": [
    "# Contactos con las características 1er.\n",
    "primer_filtro_btn = driver.find_element(By.XPATH, '//button[@aria-label=\"1er\"]')\n",
    "primer_filtro_btn.click()\n",
    "# Aplicar filtros\n",
    "filtro_btn = driver.find_element(By.XPATH, '//button[@aria-label=\"Mostrar todos los filtros. Al hacer clic en este botón, se muestran todas las opciones de filtros disponibles.\"]')\n",
    "filtro_btn.click()\n",
    "filtro_arg_btn = driver.find_element(By.XPATH, '//label[@for=\"advanced-filter-geoUrn-100446943\"]')\n",
    "filtro_arg_btn.click()\n",
    "mostrar_filtro_arg_btn = driver.find_element(By.XPATH, '//button[@class=\"reusable-search-filters-buttons search-reusables__secondary-filters-show-results-button artdeco-button artdeco-button--2 artdeco-button--primary ember-view\"]')\n",
    "mostrar_filtro_arg_btn.click()"
   ]
  },
  {
   "cell_type": "markdown",
   "metadata": {},
   "source": [
    "<img src=\"https://i.ibb.co/0XYh9jr/b-filtros.jpg\" alt=\"b-filtros\" border=\"0\" />"
   ]
  },
  {
   "cell_type": "markdown",
   "metadata": {},
   "source": [
    "## Función de escroleo de la página\n",
    "Esta función se ocupa de cargar en el navegador toda la información que aun no está visible, lo hace escroleando al footer del html."
   ]
  },
  {
   "cell_type": "code",
   "execution_count": 31,
   "metadata": {},
   "outputs": [],
   "source": [
    "def keep_scrolling_to_the_bottom(driver):\n",
    "    while True:\n",
    "        previous_scrollY = driver.execute_script( 'return window.scrollY' )\n",
    "        driver.execute_script( 'window.scrollBy( 0, 230 )' )\n",
    "        sleep( 0.4 )\n",
    "        if previous_scrollY == driver.execute_script( 'return window.scrollY' ):\n",
    "            print( 'job done, reached the bottom!' )\n",
    "            break"
   ]
  },
  {
   "cell_type": "markdown",
   "metadata": {},
   "source": [
    "## Extracción de información principal\n",
    "Al realizar la búsqueda del perfil en la página son cargadas por defecto 10 perfiles por página. Después haber intentado hacer el recorrido en cada una de ellas decidimos acotar la extracción de solo la página número 1.\n",
    "De cada uno de esos 10 perfiles se extrae el **nombre y apellido**, el **título del perfil** y la **ubicación**.\n",
    "\n",
    "En primera instancia se inspeccionó el codigo HTML con el fin de identificar aquellas clases únicas que contengan la información del perfil.\n",
    "Como técnica de extracción utilizamos el comando *find_element* que permite buscar por referencia en el html las clases buscadas. La información resultante obtenido es almacenada en 3 arreglos diferentes. "
   ]
  },
  {
   "cell_type": "code",
   "execution_count": 32,
   "metadata": {},
   "outputs": [
    {
     "name": "stdout",
     "output_type": "stream",
     "text": [
      "job done, reached the bottom!\n"
     ]
    }
   ],
   "source": [
    "# escrolar al final de la pagina\n",
    "keep_scrolling_to_the_bottom(driver)\n",
    "\n",
    "nombre_perfil = []\n",
    "titles_list = []\n",
    "locations_list = []\n",
    "\n",
    "# Extrae el nombre del perfil\n",
    "webelement_nombre_perfil = driver.find_elements(By.XPATH, \"//div[contains(@class, 'display-flex')]//a[contains(@class, 'app-aware-link ')]//span[contains(@aria-hidden, 'true')]\")\n",
    "nombre_perfil = [nombre.text for nombre in webelement_nombre_perfil]\n",
    "\n",
    "# Eliminar valores nulos de perfil\n",
    "nombre_perfil = [nombre for nombre in nombre_perfil if nombre.strip()]\n",
    "\n",
    "# Extrae el titulo del perfil \n",
    "webelement_titles_list = driver.find_elements(By.XPATH, \"//div[contains(@class, 'entity-result__primary-subtitle t-14 t-black t-normal')]\")\n",
    "\n",
    "for webelement in webelement_titles_list:\n",
    "    titles_list.append(webelement.text)\n",
    "\n",
    "# Extrae la ubicacion del perfil\n",
    "webelement_locations_list = driver.lugar_perfil = driver.find_elements(By.XPATH, \"//div[contains(@class, 'entity-result__secondary-subtitle t-14 t-normal')]\")\n",
    "\n",
    "for webelement in webelement_locations_list:\n",
    "    locations_list.append(webelement.text)"
   ]
  },
  {
   "cell_type": "markdown",
   "metadata": {},
   "source": [
    "<img src=\"https://i.ibb.co/1dsf1Cd/c-nombre.jpg\" alt=\"c-nombre\" border=\"0\" />\n",
    "\n",
    "\n",
    "<img src=\"https://i.ibb.co/vs09kHW/c-titulo.jpg\" alt=\"c-titulo\" border=\"0\" />\n",
    "\n",
    "\n",
    "<img src=\"https://i.ibb.co/2FdbpwQ/c-ubicacion.jpg\" alt=\"c-ubicacion\" border=\"0\" />"
   ]
  },
  {
   "cell_type": "markdown",
   "metadata": {},
   "source": [
    "## Extracción de las imagenes de los perfiles\n",
    "Aquí se extraen las fotos de perfil de los candidatos ya cargados en la página 1.\n",
    "Utilizamos la misma técnica de extracción mediante *find_element* y aplicamos el filtro utilizando el atributo **\"img\"** para encontrar los sources de cada una de las imágenes en esa porción de código. Luego guardamos cada una de ellas en un archivo **\"jpg\"** en una carpeta local (creada si no existe) con el nombre de cada perfil."
   ]
  },
  {
   "cell_type": "code",
   "execution_count": 34,
   "metadata": {},
   "outputs": [
    {
     "name": "stdout",
     "output_type": "stream",
     "text": [
      "Carpeta 'images' creada exitosamente.\n"
     ]
    }
   ],
   "source": [
    "# Extraer imagen\n",
    "df_images = pd.DataFrame(columns=['nombre','src_image'])\n",
    "\n",
    "webelement_images_list = driver.find_elements(By.XPATH, '//img[contains(@class, \"presence-entity__image  ivm-view-attr__img--centered EntityPhoto-circle-3   EntityPhoto-circle-3 evi-image lazy-image ember-view\")]')\n",
    "for i, img in enumerate(webelement_images_list):\n",
    "    df_images.loc[i,'src_image'] = img.get_attribute('src')\n",
    "    df_images.loc[i, 'Nombre'] = img.get_attribute('alt')\n",
    "    \n",
    "folderPath = './images/'\n",
    "\n",
    "# Verificar si la carpeta existe\n",
    "if not os.path.exists(folderPath):\n",
    "    # Crear la carpeta\n",
    "    os.makedirs(folderPath)\n",
    "    print(\"Carpeta 'images' creada exitosamente.\")\n",
    "else:\n",
    "    print(\"La carpeta 'images' ya existe. Se agregan las imagenes a la carpeta. \")\n",
    "\n",
    "# guardar las imagenes\n",
    "for i in range(len(df_images)):\n",
    "    urllib.request.urlretrieve(str(df_images.loc[i, 'src_image']), folderPath + \"{}.jpg\".format(df_images.loc[i, 'Nombre']))\n",
    "   "
   ]
  },
  {
   "cell_type": "markdown",
   "metadata": {},
   "source": [
    "<img src=\"https://i.ibb.co/KWb3HDh/d-images.jpg\" alt=\"d-images\" border=\"0\" />"
   ]
  },
  {
   "cell_type": "markdown",
   "metadata": {},
   "source": [
    "## Extracción de los link de cada perfil\n",
    "\n",
    "En esta sección se busca obtener los links de acceso a cada uno de los 10 perfiles y almacenarlo en dataframe junto a su nombre.\n",
    "Inicialmente se inspeccionó el codigo HTML con el fin de identificar aquellas clases únicas que contengan la información de los links de los perfiles. Como técnica de extracción utilizamos el comando *find_element* y filtramos utilizando el atributo **href**.\n",
    "\n",
    "Al aplicar el filtro nos encontramos con 11 urls en lugar de 10, notamos que uno de ellos era un link a una suscripción premium de linkedin. Por lo cual tuvimos que excluir dicha url utilizando como regla el patrón detectado solo para los perfiles (\"https://www.linkedin.com/in/\").\n",
    "\n",
    "Luego se procesa el link porque se encuentran caracteres especiales y tuvimos que convertir el formato para quitarlos. Posterior a esto, aplicamos técnica de expresion regular para poder quitar de la url la parte de los argumentos de cada link. A continuación reemplazamos los guiones medios por espacios.\n",
    "Se detecta que la información de los links quedó desordenada respecto del resto de la información ya obtenida. Por lo cual se decide ordenar por el campo de nombre de perfil. Además se aplica un reseteo de los indices para posteriormente realizar un merge con otra columna que contiene el nombre pero difiere de esta columna del dataframe."
   ]
  },
  {
   "cell_type": "code",
   "execution_count": 35,
   "metadata": {},
   "outputs": [],
   "source": [
    "# Extraer link del perfil\n",
    "\n",
    "link_perfil = driver.find_elements(By.XPATH, \"//div[contains(@class, 'display-flex')]//a[contains(@class, 'app-aware-link ')]\")\n",
    "\n",
    "link_perfil = [link.get_attribute('href') for link in link_perfil]\n",
    "link_perfil = list(set(link_perfil)) # para filtrar valores únicos sin duplicados\n",
    "\n",
    "# Busca todas las coincidencias con la expresión regular\n",
    "filtered_links = [link for link in link_perfil if link.startswith(\"https://www.linkedin.com/in/\")]\n",
    "decoded_links = []\n",
    "\n",
    "# Convertir los caracteres especiales a su forma original\n",
    "decoded_links = [urllib.parse.unquote(url) for url in filtered_links]\n",
    "\n",
    "# Expresión regular para extraer la cadena\n",
    "regex = r\"/in/(.*)(?=\\?)\"\n",
    "\n",
    "# Quitar el codigo de usuario y reemplaza el guion por espac\n",
    "df_links = pd.DataFrame(columns=['nombre', 'link'])\n",
    "\n",
    "for i, link in enumerate(decoded_links):\n",
    "   \n",
    "    # guardo el link\n",
    "    df_links.loc[i ,'link'] = link\n",
    "    \n",
    "    # filtrar el nombre\n",
    "    filtered  = re.search(regex, link).group(1)\n",
    "    # depuro el nombre y apellido\n",
    "    if filtered.rfind('-') > 0: \n",
    "        nom_ape = filtered[:filtered.rfind('-')]\n",
    "   \n",
    "    else:\n",
    "        nom_ape = filtered\n",
    "        \n",
    "    # reemplazar el guion por espacios\n",
    "    nom_ape = nom_ape.replace('-', ' ')    \n",
    "    # guardo el nombre y apellido\n",
    "    df_links.loc[i, 'nombre'] = nom_ape\n",
    "\n",
    "# Armar lista de links con nombres extraidos del link\n",
    "df_links.sort_values('nombre', inplace=True)\n",
    "df_links.reset_index(drop=True, inplace=True)"
   ]
  },
  {
   "cell_type": "markdown",
   "metadata": {},
   "source": [
    "<img src=\"https://i.ibb.co/L8JKyJR/e-links.jpg\" alt=\"e-links\" border=\"0\" />"
   ]
  },
  {
   "cell_type": "markdown",
   "metadata": {},
   "source": [
    "## Recopilación y almacenamiento definitivo de los datos\n",
    "Finalmente se vuelca la información obtenida anteriormente en los arreglos de nombres, locación y títulos de perfil en un dataframe final. Se crean las siguientes columnas:\n",
    "* Nombre\n",
    "* Título\n",
    "* Ubicación\n",
    "\n",
    "Luego se adiciona el campo del link de los perfiles guardado en el dataframe df_links:\n",
    "* Link\n",
    "  \n",
    "Por último, del dataframe df_images se agrega la columna con el source de la foto del perfil:\n",
    "* scr_image"
   ]
  },
  {
   "cell_type": "code",
   "execution_count": 36,
   "metadata": {},
   "outputs": [],
   "source": [
    "# Armar df con datos obtenidos\n",
    "\n",
    "list_dict = {'Nombre': nombre_perfil, 'Titulo': titles_list, 'Ubicacion': locations_list} \n",
    "\n",
    "df = pd.DataFrame(list_dict)\n",
    "df_sorted = df.sort_values(by='Nombre')\n",
    "df_sorted.reset_index(drop=True, inplace=True)\n",
    "\n",
    "# Agregamos columna de links\n",
    "df_sorted['link'] = df_links['link']\n",
    "\n",
    "# Agregamos columna de sources de imagenes\n",
    "df_final = pd.merge(df_sorted, df_images, on=\"Nombre\", how='left')\n",
    "df_final = df_final.drop(columns=['nombre'])"
   ]
  },
  {
   "cell_type": "markdown",
   "metadata": {},
   "source": [
    "<img src=\"https://i.ibb.co/YchC1p2/f-data-final.jpg\" alt=\"f-data-final\" border=\"0\" />"
   ]
  },
  {
   "cell_type": "markdown",
   "metadata": {},
   "source": [
    "## Guardado de la información\n",
    "Guardamos la infomación del dataframe final en un archivo *.csv"
   ]
  },
  {
   "cell_type": "code",
   "execution_count": 39,
   "metadata": {},
   "outputs": [
    {
     "name": "stdout",
     "output_type": "stream",
     "text": [
      "La carpeta 'Busquedas' ya existe. Se agregará el archivo a la carpeta. \n"
     ]
    }
   ],
   "source": [
    "#Exportar a csv\n",
    "from datetime import datetime\n",
    "\n",
    "folder_path = 'Busquedas/'\n",
    "# Verificar si la carpeta existe\n",
    "if not os.path.exists(folder_path):\n",
    "    # Crear la carpeta\n",
    "    os.makedirs(folder_path)\n",
    "    print(\"Carpeta 'Busquedas' creada exitosamente.\")\n",
    "else:\n",
    "    print(\"La carpeta 'Busquedas' ya existe. Se agregará el archivo a la carpeta. \")\n",
    "    \n",
    "filename = profile + '.csv'\n",
    "\n",
    "# Get the current date and time for the filename\n",
    "current_time = datetime.now().strftime('%Y-%m-%d_%H-%M')\n",
    "file_name = profile + \"_\" + f\"{current_time}.csv\"\n",
    "    \n",
    "# Define the file path\n",
    "file_path = os.path.join(folder_path, file_name)\n",
    "    \n",
    "df_final.to_csv(file_path, index=None)"
   ]
  },
  {
   "cell_type": "markdown",
   "metadata": {},
   "source": [
    "<img src=\"https://i.ibb.co/q5SmQ0Z/g-csv.jpg\" alt=\"g-csv\" border=\"0\" />"
   ]
  },
  {
   "cell_type": "markdown",
   "metadata": {},
   "source": [
    "## Cerrar el driver\n",
    "Se descarga de memoria el driver del navegador utilizado."
   ]
  },
  {
   "cell_type": "code",
   "execution_count": 38,
   "metadata": {},
   "outputs": [
    {
     "name": "stdout",
     "output_type": "stream",
     "text": [
      "\n",
      "Fin de la busqueda!\n"
     ]
    }
   ],
   "source": [
    "# Cerrar el navegador\n",
    "driver.close()\n",
    "print(f'\\nFin de la busqueda!')"
   ]
  },
  {
   "cell_type": "markdown",
   "metadata": {},
   "source": [
    "## Comentarios adicionales\n",
    "Posibles trabajos a realizar como complemento:\n",
    "* Almacenar la información en una base de datos para poder recopilar la información en una unica fuente y de forma incremental.\n",
    "* Resolver la paginación para poder obtener más información de perfiles.\n",
    "* Aplicar tecnica de OCR en las imágenes de los perfiles guardados con el fin de detectar la leyenda \"Opentowork\" que es importante para derectar los perfile activos.\n",
    "* Descargar los archivos pdf de cada ingresando en cada uno de los perfiles encontrados. "
   ]
  }
 ],
 "metadata": {
  "kernelspec": {
   "display_name": "Python 3",
   "language": "python",
   "name": "python3"
  },
  "language_info": {
   "codemirror_mode": {
    "name": "ipython",
    "version": 3
   },
   "file_extension": ".py",
   "mimetype": "text/x-python",
   "name": "python",
   "nbconvert_exporter": "python",
   "pygments_lexer": "ipython3",
   "version": "3.10.8"
  }
 },
 "nbformat": 4,
 "nbformat_minor": 2
}
